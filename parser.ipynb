{
 "cells": [
  {
   "cell_type": "code",
   "execution_count": 1,
   "metadata": {},
   "outputs": [],
   "source": [
    "import pandas as pd\n",
    "import numpy as np"
   ]
  },
  {
   "cell_type": "markdown",
   "metadata": {},
   "source": [
    "### Load table"
   ]
  },
  {
   "cell_type": "code",
   "execution_count": 2,
   "metadata": {},
   "outputs": [],
   "source": [
    "class pdbTable:\n",
    "    def __init__( self , file_addr):\n",
    "        self.df = pd.read_csv(file_addr,sep=\",\",skiprows=[0],header=None)\n",
    "        f = open(file_addr,'r')\n",
    "        self.table_name = f.read(1)\n",
    "        self.vals = self.df.values\n",
    "        \n",
    "    def getProb(self,var_list):\n",
    "        index_array= np.empty((0))\n",
    "        for i in range(len(var_list)):\n",
    "            a = np.where(t.vals[:,i]==var_list[i])\n",
    "            if len(index_array)==0:\n",
    "                index_array = a\n",
    "            else:\n",
    "                index_array = np.intersect1d(a,index_array)\n",
    "        return self.vals[index_array[0]][-1]"
   ]
  },
  {
   "cell_type": "code",
   "execution_count": 3,
   "metadata": {},
   "outputs": [
    {
     "name": "stdout",
     "output_type": "stream",
     "text": [
      "R\n",
      "[[0.  0.  0.8]\n",
      " [0.  1.  0.4]\n",
      " [0.  2.  0.5]\n",
      " [1.  2.  0.6]\n",
      " [2.  2.  0.9]]\n",
      "0.6\n"
     ]
    }
   ],
   "source": [
    "t = pdbTable('/home/jingxi/Documents/CS267/pdb/db/table_file_3.txt')\n",
    "print(t.table_name)\n",
    "print(t.vals)\n",
    "print(t.getProb([1,2]))"
   ]
  },
  {
   "cell_type": "markdown",
   "metadata": {},
   "source": [
    "### Parse query file (union of conjunctive queries) into individual conjunctive query"
   ]
  },
  {
   "cell_type": "code",
   "execution_count": 4,
   "metadata": {},
   "outputs": [],
   "source": [
    "def parse_query(query_addr):\n",
    "    df_val = pd.read_csv(query_addr,header=None,sep='\\n').values\n",
    "    q=[]\n",
    "    for i in range(len(df_val)):\n",
    "        s = str(df_val[i])\n",
    "        s = s.replace('|','')\n",
    "        s = s.replace('\\'','')\n",
    "        s = s.replace(' ','')\n",
    "        q.append(s)\n",
    "    return q"
   ]
  },
  {
   "cell_type": "code",
   "execution_count": 5,
   "metadata": {},
   "outputs": [
    {
     "name": "stdout",
     "output_type": "stream",
     "text": [
      "['[R(x1),S(x1,y1)]', '[S(x2,y2),T(x2)]']\n"
     ]
    }
   ],
   "source": [
    "ucq = parse_query('./db/query.txt')\n",
    "print(ucq)"
   ]
  },
  {
   "cell_type": "markdown",
   "metadata": {},
   "source": [
    "### parse conjunctive query into a table with each corresponding variable"
   ]
  },
  {
   "cell_type": "code",
   "execution_count": 6,
   "metadata": {},
   "outputs": [],
   "source": [
    "def parse_cq(q_str):\n",
    "    i = 0\n",
    "    #table map\n",
    "    # TABLE NAME:[VAR1,VAR2,...]\n",
    "    table={}\n",
    "    current_table = ''\n",
    "    var=''\n",
    "    while(i<len(q_str)):\n",
    "        if q_str[i].isupper():\n",
    "            table[q_str[i]] = []\n",
    "            current_table = q_str[i]\n",
    "        else:\n",
    "            if((q_str[i] == ',' or q_str[i] == ')') and var):\n",
    "                table[current_table].append(var)\n",
    "                var='' \n",
    "            elif (q_str[i] not in \"(),\"):\n",
    "                var+= q_str[i]\n",
    "        i = i+1\n",
    "    return table"
   ]
  },
  {
   "cell_type": "code",
   "execution_count": 7,
   "metadata": {},
   "outputs": [
    {
     "name": "stdout",
     "output_type": "stream",
     "text": [
      "{'R': ['[x1'], 'S': ['x1', 'y1']}\n",
      "{'S': ['[x2', 'y2'], 'T': ['x2']}\n"
     ]
    }
   ],
   "source": [
    "for cq in ucq:\n",
    "    t = parse_cq(cq)\n",
    "    print(t)"
   ]
  },
  {
   "cell_type": "code",
   "execution_count": null,
   "metadata": {},
   "outputs": [],
   "source": []
  }
 ],
 "metadata": {
  "kernelspec": {
   "display_name": "Python 3",
   "language": "python",
   "name": "python3"
  },
  "language_info": {
   "codemirror_mode": {
    "name": "ipython",
    "version": 3
   },
   "file_extension": ".py",
   "mimetype": "text/x-python",
   "name": "python",
   "nbconvert_exporter": "python",
   "pygments_lexer": "ipython3",
   "version": "3.6.6"
  }
 },
 "nbformat": 4,
 "nbformat_minor": 2
}
