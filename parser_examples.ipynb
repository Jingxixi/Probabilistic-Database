{
 "cells": [
  {
   "cell_type": "code",
   "execution_count": 9,
   "metadata": {},
   "outputs": [],
   "source": [
    "import parser"
   ]
  },
  {
   "cell_type": "markdown",
   "metadata": {},
   "source": [
    "\n",
    "### Load table"
   ]
  },
  {
   "cell_type": "code",
   "execution_count": 10,
   "metadata": {},
   "outputs": [
    {
     "name": "stdout",
     "output_type": "stream",
     "text": [
      "R\n",
      "[[0.  0.  0.8]\n",
      " [0.  1.  0.4]\n",
      " [0.  2.  0.5]\n",
      " [1.  2.  0.6]\n",
      " [2.  2.  0.9]]\n",
      "0.6\n",
      "0\n"
     ]
    }
   ],
   "source": [
    "t = pdbTable('./db/table_file_3.txt')\n",
    "print(t.table_name)\n",
    "print(t.vals)\n",
    "print(t.getProb([1,2]))\n",
    "print(t.getProb([1,9]))"
   ]
  },
  {
   "cell_type": "code",
   "execution_count": 11,
   "metadata": {},
   "outputs": [
    {
     "data": {
      "text/plain": [
       "[[['R', ['x1']], ['S', ['x1', 'y1']]], [['S', ['x2', 'y2']], ['T', ['x2']]]]"
      ]
     },
     "execution_count": 11,
     "metadata": {},
     "output_type": "execute_result"
    }
   ],
   "source": [
    "parser.parse_query('./db/query.txt')"
   ]
  }
 ],
 "metadata": {
  "kernelspec": {
   "display_name": "Python 3",
   "language": "python",
   "name": "python3"
  },
  "language_info": {
   "codemirror_mode": {
    "name": "ipython",
    "version": 3
   },
   "file_extension": ".py",
   "mimetype": "text/x-python",
   "name": "python",
   "nbconvert_exporter": "python",
   "pygments_lexer": "ipython3",
   "version": "3.6.6"
  }
 },
 "nbformat": 4,
 "nbformat_minor": 2
}
