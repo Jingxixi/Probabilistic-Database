{
 "cells": [
  {
   "cell_type": "code",
   "execution_count": 5,
   "metadata": {},
   "outputs": [],
   "source": [
    "import parser"
   ]
  },
  {
   "cell_type": "markdown",
   "metadata": {},
   "source": [
    "\n",
    "### Load table"
   ]
  },
  {
   "cell_type": "code",
   "execution_count": 8,
   "metadata": {},
   "outputs": [
    {
     "name": "stdout",
     "output_type": "stream",
     "text": [
      "R\n",
      "[[0.  0.  0.8]\n",
      " [0.  1.  0.4]\n",
      " [0.  2.  0.5]\n",
      " [1.  2.  0.6]\n",
      " [2.  2.  0.9]]\n",
      "0.6\n",
      "0\n"
     ]
    }
   ],
   "source": [
    "t = parser.pdbTable('./db/table_file_3.txt')\n",
    "print(t.table_name)\n",
    "print(t.vals)\n",
    "print(t.getProb([1,2]))\n",
    "print(t.getProb([1,9]))"
   ]
  },
  {
   "cell_type": "code",
   "execution_count": 36,
   "metadata": {},
   "outputs": [
    {
     "name": "stdout",
     "output_type": "stream",
     "text": [
      "[[['R', ['x1']], ['S', ['x1', 'y1']]], [['S', ['x2', 'y2']], ['T', ['x2']]]]\n"
     ]
    }
   ],
   "source": [
    "parsed_query = parser.parse_query('./db/query.txt')\n",
    "print(parsed_query)"
   ]
  },
  {
   "cell_type": "code",
   "execution_count": 39,
   "metadata": {},
   "outputs": [],
   "source": [
    "#Example R(x1)\n",
    "#Input: ['R', ['x1']]\n",
    "class Atom:\n",
    "    def __init__(self, parsed_atom):\n",
    "        self.name = parsed_atom[0]\n",
    "        self.variables = parsed_atom[1]\n",
    "\n",
    "#Example /forall x1 /forall x2 R(x1) conjunnction S(x1,y1)\n",
    "#Input: [['R', ['x1']], ['S', ['x1', 'y1']]]\n",
    "class Clause:\n",
    "    def __init__(self, parsed_clause):\n",
    "        self.atoms = []\n",
    "        self.variables = set()\n",
    "        for i in range(len(parsed_clause)):\n",
    "            self.atoms.append(Atom(parsed_clause[i]))\n",
    "        for a in self.atoms:\n",
    "            self.variables.update(a.variables)\n",
    "    \n",
    "    def print(self):\n",
    "        print(\"This Clause contains the following atoms:\")\n",
    "        for a in self.atoms:\n",
    "            print(\"Table name is \", a.name, \" and variables contain\",a.variables)\n",
    "        print(\"This clause has universal quatifier for variable:\",self.variables)\n",
    "                     "
   ]
  },
  {
   "cell_type": "code",
   "execution_count": 40,
   "metadata": {},
   "outputs": [
    {
     "name": "stdout",
     "output_type": "stream",
     "text": [
      "This Clause contains the following atoms:\n",
      "Table name is  R  and variables contain ['x1']\n",
      "Table name is  S  and variables contain ['x1', 'y1']\n",
      "This clause has universal quatifier for variable: {'y1', 'x1'}\n",
      "This Clause contains the following atoms:\n",
      "Table name is  S  and variables contain ['x2', 'y2']\n",
      "Table name is  T  and variables contain ['x2']\n",
      "This clause has universal quatifier for variable: {'x2', 'y2'}\n"
     ]
    }
   ],
   "source": [
    "Clauses=[]\n",
    "for q in parsed_query:\n",
    "    Clauses.append(Clause(q))\n",
    "\n",
    "for c in Clauses:\n",
    "    c.print()\n",
    "    "
   ]
  },
  {
   "cell_type": "code",
   "execution_count": null,
   "metadata": {},
   "outputs": [],
   "source": [
    "#CNF is a list of clauses"
   ]
  },
  {
   "cell_type": "code",
   "execution_count": null,
   "metadata": {},
   "outputs": [],
   "source": []
  },
  {
   "cell_type": "code",
   "execution_count": null,
   "metadata": {},
   "outputs": [],
   "source": []
  }
 ],
 "metadata": {
  "kernelspec": {
   "display_name": "Python 3",
   "language": "python",
   "name": "python3"
  },
  "language_info": {
   "codemirror_mode": {
    "name": "ipython",
    "version": 3
   },
   "file_extension": ".py",
   "mimetype": "text/x-python",
   "name": "python",
   "nbconvert_exporter": "python",
   "pygments_lexer": "ipython3",
   "version": "3.6.6"
  }
 },
 "nbformat": 4,
 "nbformat_minor": 2
}
